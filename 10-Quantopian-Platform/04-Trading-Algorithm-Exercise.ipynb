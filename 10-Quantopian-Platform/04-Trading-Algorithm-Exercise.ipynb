{
 "cells": [
  {
   "cell_type": "markdown",
   "metadata": {},
   "source": [
    "# Trading Algorithm Exercise \n",
    "** This is an extremely open exercise and there are lots of ways to do it! Please feel free to just skip to the solutions to treat it as an example code along. If you attempt the exercise, do not expect the example solution to exactly match up to your solution. You may have performed much better (or much worse)! **\n",
    "\n",
    "## Your Task\n",
    "\n",
    "Your manager wants to see if [Bollinger Bands](https://en.wikipedia.org/wiki/Bollinger_Bands) are still a meaningful technical analysis strategy on their own. For this exercise, you will be testing *Johnson and Johnson* sid(4151).Specifically, your manager has decided he wants set 100% of the portfolio to go long when the stock price is below 2 times the 20 day rolling standard deviation subtracted from the 20 day moving average, and go 100% short of the portfolio on that stock when the current price is above 2 times the 20 day rolling standard deviation added on to the 20 day moving average. The check for this signal event should only happen once per day. This is probably a very unreasonable strategy, but the main point of this is to exercise your ability to write out backtest algorithms with Quantopian.\n",
    "\n",
    "## Time Frame\n",
    "\n",
    "You should use the following time frame for this exercise (so you can at least have a reasonable comparison to the solutions, but feel free to play around with this!)\n",
    "\n",
    "#### BACKTEST START:  Jul-20-2014\n",
    "#### BACKTEST END: Jul-20-2017"
   ]
  },
  {
   "cell_type": "code",
   "execution_count": null,
   "metadata": {
    "collapsed": true
   },
   "outputs": [],
   "source": [
    "import pandas as pd\n",
    "import numpy as np\n",
    "def initialize(context):\n",
    "    context.Johnson=sid(4151)\n",
    "    schedule_function(check_boll,date_rules.everyday(),time_rules.market_close())\n",
    "def check_boll(context,data):\n",
    "    Johnson=context.Johnson\n",
    "    prices=data.history(Johnson,'price',20,'1d')\n",
    "    20_avg=np.mean(prices)\n",
    "    20_std=np.std(prices)\n",
    "    current_price=data.current(Johnson,'price')\n",
    "    upper_bound=20_avg+2*20_std\n",
    "    lower_bound=20_avg-2*20_std\n",
    "    if current_price<=lower_bound:\n",
    "        order_target_percent(Johnson,1.0)\n",
    "    elif current_price>=upper_bound:\n",
    "        order_target_percent(Johnson,-1.0)\n",
    "    record(current price=short_price\n",
    "          upper bound=upper_bound\n",
    "          lower bound=lower_bound\n",
    "          moving average=20_avg\n",
    "          )"
   ]
  }
 ],
 "metadata": {
  "anaconda-cloud": {},
  "kernelspec": {
   "display_name": "Python [anaconda]",
   "language": "python",
   "name": "Python [anaconda]"
  },
  "language_info": {
   "codemirror_mode": {
    "name": "ipython",
    "version": 2
   },
   "file_extension": ".py",
   "mimetype": "text/x-python",
   "name": "python",
   "nbconvert_exporter": "python",
   "pygments_lexer": "ipython2",
   "version": "2.7.12"
  }
 },
 "nbformat": 4,
 "nbformat_minor": 1
}
