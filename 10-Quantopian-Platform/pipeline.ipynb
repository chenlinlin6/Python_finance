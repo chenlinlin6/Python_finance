{
 "cells": [
  {
   "cell_type": "markdown",
   "metadata": {},
   "source": [
    "# pipeline"
   ]
  },
  {
   "cell_type": "markdown",
   "metadata": {},
   "source": [
    "pipeline可以根据传入的pipeline对象和起始还有截止日期返回一个多层索引的对象,pipeline是根据传入的数据data经过factor对data转化后返回的数据结构，然后run_pipeline可以根据传入的pipe和日期去取对应的数据并进行加工返回最后的dataframe"
   ]
  },
  {
   "cell_type": "code",
   "execution_count": 1,
   "metadata": {
    "collapsed": true
   },
   "outputs": [],
   "source": [
    "from quantopian.pipeline import Pipeline"
   ]
  },
  {
   "cell_type": "code",
   "execution_count": 2,
   "metadata": {
    "collapsed": false
   },
   "outputs": [],
   "source": [
    "def make_pipeline():\n",
    "    return Pipeline()"
   ]
  },
  {
   "cell_type": "code",
   "execution_count": 3,
   "metadata": {
    "collapsed": true
   },
   "outputs": [],
   "source": [
    "pipe=make_pipeline()"
   ]
  },
  {
   "cell_type": "code",
   "execution_count": 4,
   "metadata": {
    "collapsed": true
   },
   "outputs": [],
   "source": [
    "from quantopian.research import run_pipeline"
   ]
  },
  {
   "cell_type": "code",
   "execution_count": 5,
   "metadata": {
    "collapsed": true
   },
   "outputs": [],
   "source": [
    "result=run_pipeline(pipe, '2017-01-01','2017-01-01')"
   ]
  },
  {
   "cell_type": "code",
   "execution_count": 6,
   "metadata": {
    "collapsed": false
   },
   "outputs": [
    {
     "data": {
      "text/html": [
       "<div>\n",
       "<table border=\"1\" class=\"dataframe\">\n",
       "  <thead>\n",
       "    <tr style=\"text-align: right;\">\n",
       "      <th></th>\n",
       "      <th></th>\n",
       "    </tr>\n",
       "  </thead>\n",
       "  <tbody>\n",
       "    <tr>\n",
       "      <th rowspan=\"5\" valign=\"top\">2017-01-03 00:00:00+00:00</th>\n",
       "      <th>Equity(2 [ARNC])</th>\n",
       "    </tr>\n",
       "    <tr>\n",
       "      <th>Equity(21 [AAME])</th>\n",
       "    </tr>\n",
       "    <tr>\n",
       "      <th>Equity(24 [AAPL])</th>\n",
       "    </tr>\n",
       "    <tr>\n",
       "      <th>Equity(25 [ARNC_PR])</th>\n",
       "    </tr>\n",
       "    <tr>\n",
       "      <th>Equity(31 [ABAX])</th>\n",
       "    </tr>\n",
       "  </tbody>\n",
       "</table>\n",
       "</div>"
      ],
      "text/plain": [
       "Empty DataFrame\n",
       "Columns: []\n",
       "Index: [(2017-01-03 00:00:00+00:00, Equity(2 [ARNC])), (2017-01-03 00:00:00+00:00, Equity(21 [AAME])), (2017-01-03 00:00:00+00:00, Equity(24 [AAPL])), (2017-01-03 00:00:00+00:00, Equity(25 [ARNC_PR])), (2017-01-03 00:00:00+00:00, Equity(31 [ABAX]))]"
      ]
     },
     "execution_count": 6,
     "metadata": {},
     "output_type": "execute_result"
    }
   ],
   "source": [
    "result.head()"
   ]
  },
  {
   "cell_type": "code",
   "execution_count": 7,
   "metadata": {
    "collapsed": false
   },
   "outputs": [
    {
     "name": "stdout",
     "output_type": "stream",
     "text": [
      "<class 'pandas.core.frame.DataFrame'>\n",
      "MultiIndex: 8344 entries, (2017-01-03 00:00:00+00:00, Equity(2 [ARNC])) to (2017-01-03 00:00:00+00:00, Equity(50569 [OUSM]))\n",
      "Empty DataFrame"
     ]
    }
   ],
   "source": [
    "result.info()"
   ]
  },
  {
   "cell_type": "code",
   "execution_count": null,
   "metadata": {
    "collapsed": true
   },
   "outputs": [],
   "source": []
  },
  {
   "cell_type": "markdown",
   "metadata": {},
   "source": [
    "我们可以看到这是一个多层索引的空dataframe"
   ]
  },
  {
   "cell_type": "markdown",
   "metadata": {},
   "source": [
    "# Data "
   ]
  },
  {
   "cell_type": "markdown",
   "metadata": {},
   "source": [
    "UseEquityPricing包含有股本的价格变化信息"
   ]
  },
  {
   "cell_type": "code",
   "execution_count": 8,
   "metadata": {
    "collapsed": true
   },
   "outputs": [],
   "source": [
    "from quantopian.pipeline.data.builtin import USEquityPricing"
   ]
  },
  {
   "cell_type": "markdown",
   "metadata": {},
   "source": [
    "# Factor "
   ]
  },
  {
   "cell_type": "markdown",
   "metadata": {},
   "source": [
    "factor是函数，传入股本的信息asset和相关的时间戳，返回这个factor函数处理后的数值。factor有多个函数，比如有求移动平均的simplemovingaverage，有求权值的平均值EWMA等"
   ]
  },
  {
   "cell_type": "code",
   "execution_count": 9,
   "metadata": {
    "collapsed": true
   },
   "outputs": [],
   "source": [
    "from quantopian.pipeline.factors import SimpleMovingAverage,EWMA"
   ]
  },
  {
   "cell_type": "code",
   "execution_count": 10,
   "metadata": {
    "collapsed": true
   },
   "outputs": [],
   "source": [
    "def make_pipeline():\n",
    "    avg_30=SimpleMovingAverage(inputs=[USEquityPricing.close],window_length=30)\n",
    "    return Pipeline(columns={'avg_30':avg_30})"
   ]
  },
  {
   "cell_type": "code",
   "execution_count": 11,
   "metadata": {
    "collapsed": false
   },
   "outputs": [
    {
     "data": {
      "text/html": [
       "<div>\n",
       "<table border=\"1\" class=\"dataframe\">\n",
       "  <thead>\n",
       "    <tr style=\"text-align: right;\">\n",
       "      <th></th>\n",
       "      <th></th>\n",
       "      <th>avg_30</th>\n",
       "    </tr>\n",
       "  </thead>\n",
       "  <tbody>\n",
       "    <tr>\n",
       "      <th rowspan=\"5\" valign=\"top\">2017-01-03 00:00:00+00:00</th>\n",
       "      <th>Equity(2 [ARNC])</th>\n",
       "      <td>20.110500</td>\n",
       "    </tr>\n",
       "    <tr>\n",
       "      <th>Equity(21 [AAME])</th>\n",
       "      <td>3.899241</td>\n",
       "    </tr>\n",
       "    <tr>\n",
       "      <th>Equity(24 [AAPL])</th>\n",
       "      <td>113.368433</td>\n",
       "    </tr>\n",
       "    <tr>\n",
       "      <th>Equity(25 [ARNC_PR])</th>\n",
       "      <td>86.796111</td>\n",
       "    </tr>\n",
       "    <tr>\n",
       "      <th>Equity(31 [ABAX])</th>\n",
       "      <td>52.498394</td>\n",
       "    </tr>\n",
       "  </tbody>\n",
       "</table>\n",
       "</div>"
      ],
      "text/plain": [
       "                                                    avg_30\n",
       "2017-01-03 00:00:00+00:00 Equity(2 [ARNC])       20.110500\n",
       "                          Equity(21 [AAME])       3.899241\n",
       "                          Equity(24 [AAPL])     113.368433\n",
       "                          Equity(25 [ARNC_PR])   86.796111\n",
       "                          Equity(31 [ABAX])      52.498394"
      ]
     },
     "execution_count": 11,
     "metadata": {},
     "output_type": "execute_result"
    }
   ],
   "source": [
    "pipe=make_pipeline()\n",
    "result=run_pipeline(pipe,'2017-01-01','2017-01-01')\n",
    "\n",
    "result.head()"
   ]
  },
  {
   "cell_type": "code",
   "execution_count": 12,
   "metadata": {
    "collapsed": false
   },
   "outputs": [
    {
     "data": {
      "text/plain": [
       "8344"
      ]
     },
     "execution_count": 12,
     "metadata": {},
     "output_type": "execute_result"
    }
   ],
   "source": [
    "len(result)"
   ]
  },
  {
   "cell_type": "code",
   "execution_count": 13,
   "metadata": {
    "collapsed": true
   },
   "outputs": [],
   "source": [
    "def make_pipeline():\n",
    "    avg_30=SimpleMovingAverage(inputs=[USEquityPricing.close],window_length=30)\n",
    "    latest=USEquityPricing.close.latest\n",
    "    return Pipeline(columns={'avg_30':avg_30, 'latest':latest})"
   ]
  },
  {
   "cell_type": "code",
   "execution_count": 14,
   "metadata": {
    "collapsed": false
   },
   "outputs": [
    {
     "data": {
      "text/html": [
       "<div>\n",
       "<table border=\"1\" class=\"dataframe\">\n",
       "  <thead>\n",
       "    <tr style=\"text-align: right;\">\n",
       "      <th></th>\n",
       "      <th></th>\n",
       "      <th>avg_30</th>\n",
       "      <th>latest</th>\n",
       "    </tr>\n",
       "  </thead>\n",
       "  <tbody>\n",
       "    <tr>\n",
       "      <th rowspan=\"5\" valign=\"top\">2017-01-03 00:00:00+00:00</th>\n",
       "      <th>Equity(2 [ARNC])</th>\n",
       "      <td>20.110500</td>\n",
       "      <td>18.55</td>\n",
       "    </tr>\n",
       "    <tr>\n",
       "      <th>Equity(21 [AAME])</th>\n",
       "      <td>3.899241</td>\n",
       "      <td>4.10</td>\n",
       "    </tr>\n",
       "    <tr>\n",
       "      <th>Equity(24 [AAPL])</th>\n",
       "      <td>113.368433</td>\n",
       "      <td>115.84</td>\n",
       "    </tr>\n",
       "    <tr>\n",
       "      <th>Equity(25 [ARNC_PR])</th>\n",
       "      <td>86.796111</td>\n",
       "      <td>NaN</td>\n",
       "    </tr>\n",
       "    <tr>\n",
       "      <th>Equity(31 [ABAX])</th>\n",
       "      <td>52.498394</td>\n",
       "      <td>52.74</td>\n",
       "    </tr>\n",
       "  </tbody>\n",
       "</table>\n",
       "</div>"
      ],
      "text/plain": [
       "                                                    avg_30  latest\n",
       "2017-01-03 00:00:00+00:00 Equity(2 [ARNC])       20.110500   18.55\n",
       "                          Equity(21 [AAME])       3.899241    4.10\n",
       "                          Equity(24 [AAPL])     113.368433  115.84\n",
       "                          Equity(25 [ARNC_PR])   86.796111     NaN\n",
       "                          Equity(31 [ABAX])      52.498394   52.74"
      ]
     },
     "execution_count": 14,
     "metadata": {},
     "output_type": "execute_result"
    }
   ],
   "source": [
    "pip=make_pipeline()\n",
    "result=run_pipeline(pip,'2017-01-01','2017-01-01')\n",
    "result.head()"
   ]
  },
  {
   "cell_type": "code",
   "execution_count": 15,
   "metadata": {
    "collapsed": false
   },
   "outputs": [],
   "source": [
    "def make_pipeline():\n",
    "    avg_10=SimpleMovingAverage(inputs=[USEquityPricing.close],window_length=10)\n",
    "    avg_30=SimpleMovingAverage(inputs=[USEquityPricing.close],window_length=30)\n",
    "    latest=USEquityPricing.close.latest\n",
    "    percent_difference=(avg_10-avg_30)/avg_30\n",
    "    return Pipeline(columns={'avg_10':avg_10,'avg_30':avg_30,'latest':latest,'percent_difference':percent_difference})"
   ]
  },
  {
   "cell_type": "code",
   "execution_count": 16,
   "metadata": {
    "collapsed": false
   },
   "outputs": [
    {
     "data": {
      "text/html": [
       "<div>\n",
       "<table border=\"1\" class=\"dataframe\">\n",
       "  <thead>\n",
       "    <tr style=\"text-align: right;\">\n",
       "      <th></th>\n",
       "      <th></th>\n",
       "      <th>avg_10</th>\n",
       "      <th>avg_30</th>\n",
       "      <th>latest</th>\n",
       "      <th>percent_difference</th>\n",
       "    </tr>\n",
       "  </thead>\n",
       "  <tbody>\n",
       "    <tr>\n",
       "      <th rowspan=\"5\" valign=\"top\">2017-01-03 00:00:00+00:00</th>\n",
       "      <th>Equity(2 [ARNC])</th>\n",
       "      <td>19.6530</td>\n",
       "      <td>20.110500</td>\n",
       "      <td>18.55</td>\n",
       "      <td>-0.022749</td>\n",
       "    </tr>\n",
       "    <tr>\n",
       "      <th>Equity(21 [AAME])</th>\n",
       "      <td>3.8778</td>\n",
       "      <td>3.899241</td>\n",
       "      <td>4.10</td>\n",
       "      <td>-0.005499</td>\n",
       "    </tr>\n",
       "    <tr>\n",
       "      <th>Equity(24 [AAPL])</th>\n",
       "      <td>116.5973</td>\n",
       "      <td>113.368433</td>\n",
       "      <td>115.84</td>\n",
       "      <td>0.028481</td>\n",
       "    </tr>\n",
       "    <tr>\n",
       "      <th>Equity(25 [ARNC_PR])</th>\n",
       "      <td>86.7550</td>\n",
       "      <td>86.796111</td>\n",
       "      <td>NaN</td>\n",
       "      <td>-0.000474</td>\n",
       "    </tr>\n",
       "    <tr>\n",
       "      <th>Equity(31 [ABAX])</th>\n",
       "      <td>52.0960</td>\n",
       "      <td>52.498394</td>\n",
       "      <td>52.74</td>\n",
       "      <td>-0.007665</td>\n",
       "    </tr>\n",
       "  </tbody>\n",
       "</table>\n",
       "</div>"
      ],
      "text/plain": [
       "                                                  avg_10      avg_30  latest  \\\n",
       "2017-01-03 00:00:00+00:00 Equity(2 [ARNC])       19.6530   20.110500   18.55   \n",
       "                          Equity(21 [AAME])       3.8778    3.899241    4.10   \n",
       "                          Equity(24 [AAPL])     116.5973  113.368433  115.84   \n",
       "                          Equity(25 [ARNC_PR])   86.7550   86.796111     NaN   \n",
       "                          Equity(31 [ABAX])      52.0960   52.498394   52.74   \n",
       "\n",
       "                                                percent_difference  \n",
       "2017-01-03 00:00:00+00:00 Equity(2 [ARNC])               -0.022749  \n",
       "                          Equity(21 [AAME])              -0.005499  \n",
       "                          Equity(24 [AAPL])               0.028481  \n",
       "                          Equity(25 [ARNC_PR])           -0.000474  \n",
       "                          Equity(31 [ABAX])              -0.007665  "
      ]
     },
     "execution_count": 16,
     "metadata": {},
     "output_type": "execute_result"
    }
   ],
   "source": [
    "pipe=make_pipeline()\n",
    "result=run_pipeline(pipe,'2017-01-01','2017-01-01')\n",
    "\n",
    "result.head()"
   ]
  },
  {
   "cell_type": "code",
   "execution_count": 17,
   "metadata": {
    "collapsed": true
   },
   "outputs": [],
   "source": [
    "def make_pipeline():\n",
    "    avg_10=SimpleMovingAverage(inputs=[USEquityPricing.close],window_length=10)\n",
    "    avg_30=SimpleMovingAverage(inputs=[USEquityPricing.close],window_length=30)\n",
    "    latest=USEquityPricing.close.latest\n",
    "    percent_difference=(avg_10-avg_30)/avg_30\n",
    "    check_percent=percent_difference>0\n",
    "    return Pipeline(columns={'avg_10':avg_10,'avg_30':avg_30,'latest':latest,'percent_difference':percent_difference, 'check_percent':check_percent})"
   ]
  },
  {
   "cell_type": "code",
   "execution_count": 18,
   "metadata": {
    "collapsed": false
   },
   "outputs": [
    {
     "data": {
      "text/html": [
       "<div>\n",
       "<table border=\"1\" class=\"dataframe\">\n",
       "  <thead>\n",
       "    <tr style=\"text-align: right;\">\n",
       "      <th></th>\n",
       "      <th></th>\n",
       "      <th>avg_10</th>\n",
       "      <th>avg_30</th>\n",
       "      <th>check_percent</th>\n",
       "      <th>latest</th>\n",
       "      <th>percent_difference</th>\n",
       "    </tr>\n",
       "  </thead>\n",
       "  <tbody>\n",
       "    <tr>\n",
       "      <th rowspan=\"5\" valign=\"top\">2017-01-03 00:00:00+00:00</th>\n",
       "      <th>Equity(2 [ARNC])</th>\n",
       "      <td>19.6530</td>\n",
       "      <td>20.110500</td>\n",
       "      <td>False</td>\n",
       "      <td>18.55</td>\n",
       "      <td>-0.022749</td>\n",
       "    </tr>\n",
       "    <tr>\n",
       "      <th>Equity(21 [AAME])</th>\n",
       "      <td>3.8778</td>\n",
       "      <td>3.899241</td>\n",
       "      <td>False</td>\n",
       "      <td>4.10</td>\n",
       "      <td>-0.005499</td>\n",
       "    </tr>\n",
       "    <tr>\n",
       "      <th>Equity(24 [AAPL])</th>\n",
       "      <td>116.5973</td>\n",
       "      <td>113.368433</td>\n",
       "      <td>True</td>\n",
       "      <td>115.84</td>\n",
       "      <td>0.028481</td>\n",
       "    </tr>\n",
       "    <tr>\n",
       "      <th>Equity(25 [ARNC_PR])</th>\n",
       "      <td>86.7550</td>\n",
       "      <td>86.796111</td>\n",
       "      <td>False</td>\n",
       "      <td>NaN</td>\n",
       "      <td>-0.000474</td>\n",
       "    </tr>\n",
       "    <tr>\n",
       "      <th>Equity(31 [ABAX])</th>\n",
       "      <td>52.0960</td>\n",
       "      <td>52.498394</td>\n",
       "      <td>False</td>\n",
       "      <td>52.74</td>\n",
       "      <td>-0.007665</td>\n",
       "    </tr>\n",
       "  </tbody>\n",
       "</table>\n",
       "</div>"
      ],
      "text/plain": [
       "                                                  avg_10      avg_30  \\\n",
       "2017-01-03 00:00:00+00:00 Equity(2 [ARNC])       19.6530   20.110500   \n",
       "                          Equity(21 [AAME])       3.8778    3.899241   \n",
       "                          Equity(24 [AAPL])     116.5973  113.368433   \n",
       "                          Equity(25 [ARNC_PR])   86.7550   86.796111   \n",
       "                          Equity(31 [ABAX])      52.0960   52.498394   \n",
       "\n",
       "                                               check_percent  latest  \\\n",
       "2017-01-03 00:00:00+00:00 Equity(2 [ARNC])             False   18.55   \n",
       "                          Equity(21 [AAME])            False    4.10   \n",
       "                          Equity(24 [AAPL])             True  115.84   \n",
       "                          Equity(25 [ARNC_PR])         False     NaN   \n",
       "                          Equity(31 [ABAX])            False   52.74   \n",
       "\n",
       "                                                percent_difference  \n",
       "2017-01-03 00:00:00+00:00 Equity(2 [ARNC])               -0.022749  \n",
       "                          Equity(21 [AAME])              -0.005499  \n",
       "                          Equity(24 [AAPL])               0.028481  \n",
       "                          Equity(25 [ARNC_PR])           -0.000474  \n",
       "                          Equity(31 [ABAX])              -0.007665  "
      ]
     },
     "execution_count": 18,
     "metadata": {},
     "output_type": "execute_result"
    }
   ],
   "source": [
    "pipe=make_pipeline()\n",
    "result=run_pipeline(pipe,'2017-01-01','2017-01-01')\n",
    "\n",
    "result.head()"
   ]
  },
  {
   "cell_type": "code",
   "execution_count": 19,
   "metadata": {
    "collapsed": true
   },
   "outputs": [],
   "source": [
    "def make_pipeline():\n",
    "    avg_10=SimpleMovingAverage(inputs=[USEquityPricing.close],window_length=10)\n",
    "    avg_30=SimpleMovingAverage(inputs=[USEquityPricing.close],window_length=30)\n",
    "    latest=USEquityPricing.close.latest\n",
    "    percent_difference=(avg_10-avg_30)/avg_30\n",
    "    check_percent=percent_difference>0\n",
    "    return Pipeline(columns={'avg_10':avg_10,'avg_30':avg_30,'latest':latest,'percent_difference':percent_difference, 'check_percent':check_percent},screen=check_percent)"
   ]
  },
  {
   "cell_type": "code",
   "execution_count": 20,
   "metadata": {
    "collapsed": false
   },
   "outputs": [
    {
     "data": {
      "text/html": [
       "<div>\n",
       "<table border=\"1\" class=\"dataframe\">\n",
       "  <thead>\n",
       "    <tr style=\"text-align: right;\">\n",
       "      <th></th>\n",
       "      <th></th>\n",
       "      <th>avg_10</th>\n",
       "      <th>avg_30</th>\n",
       "      <th>check_percent</th>\n",
       "      <th>latest</th>\n",
       "      <th>percent_difference</th>\n",
       "    </tr>\n",
       "  </thead>\n",
       "  <tbody>\n",
       "    <tr>\n",
       "      <th rowspan=\"5\" valign=\"top\">2017-01-03 00:00:00+00:00</th>\n",
       "      <th>Equity(24 [AAPL])</th>\n",
       "      <td>116.5973</td>\n",
       "      <td>113.368433</td>\n",
       "      <td>True</td>\n",
       "      <td>115.84</td>\n",
       "      <td>0.028481</td>\n",
       "    </tr>\n",
       "    <tr>\n",
       "      <th>Equity(66 [AB])</th>\n",
       "      <td>23.2250</td>\n",
       "      <td>23.119167</td>\n",
       "      <td>True</td>\n",
       "      <td>23.45</td>\n",
       "      <td>0.004578</td>\n",
       "    </tr>\n",
       "    <tr>\n",
       "      <th>Equity(69 [ACAT])</th>\n",
       "      <td>15.9880</td>\n",
       "      <td>15.839500</td>\n",
       "      <td>True</td>\n",
       "      <td>15.02</td>\n",
       "      <td>0.009375</td>\n",
       "    </tr>\n",
       "    <tr>\n",
       "      <th>Equity(70 [VBF])</th>\n",
       "      <td>18.4236</td>\n",
       "      <td>18.208480</td>\n",
       "      <td>True</td>\n",
       "      <td>18.49</td>\n",
       "      <td>0.011814</td>\n",
       "    </tr>\n",
       "    <tr>\n",
       "      <th>Equity(84 [ACET])</th>\n",
       "      <td>21.5440</td>\n",
       "      <td>20.722753</td>\n",
       "      <td>True</td>\n",
       "      <td>21.97</td>\n",
       "      <td>0.039630</td>\n",
       "    </tr>\n",
       "  </tbody>\n",
       "</table>\n",
       "</div>"
      ],
      "text/plain": [
       "                                               avg_10      avg_30  \\\n",
       "2017-01-03 00:00:00+00:00 Equity(24 [AAPL])  116.5973  113.368433   \n",
       "                          Equity(66 [AB])     23.2250   23.119167   \n",
       "                          Equity(69 [ACAT])   15.9880   15.839500   \n",
       "                          Equity(70 [VBF])    18.4236   18.208480   \n",
       "                          Equity(84 [ACET])   21.5440   20.722753   \n",
       "\n",
       "                                            check_percent  latest  \\\n",
       "2017-01-03 00:00:00+00:00 Equity(24 [AAPL])          True  115.84   \n",
       "                          Equity(66 [AB])            True   23.45   \n",
       "                          Equity(69 [ACAT])          True   15.02   \n",
       "                          Equity(70 [VBF])           True   18.49   \n",
       "                          Equity(84 [ACET])          True   21.97   \n",
       "\n",
       "                                             percent_difference  \n",
       "2017-01-03 00:00:00+00:00 Equity(24 [AAPL])            0.028481  \n",
       "                          Equity(66 [AB])              0.004578  \n",
       "                          Equity(69 [ACAT])            0.009375  \n",
       "                          Equity(70 [VBF])             0.011814  \n",
       "                          Equity(84 [ACET])            0.039630  "
      ]
     },
     "execution_count": 20,
     "metadata": {},
     "output_type": "execute_result"
    }
   ],
   "source": [
    "pipe=make_pipeline()\n",
    "result=run_pipeline(pipe,'2017-01-01','2017-01-01')\n",
    "\n",
    "result.head()"
   ]
  },
  {
   "cell_type": "code",
   "execution_count": 21,
   "metadata": {
    "collapsed": true
   },
   "outputs": [],
   "source": [
    "def make_pipeline():\n",
    "    avg_10=SimpleMovingAverage(inputs=[USEquityPricing.close],window_length=10)\n",
    "    avg_30=SimpleMovingAverage(inputs=[USEquityPricing.close],window_length=30)\n",
    "    latest=USEquityPricing.close.latest\n",
    "    percent_difference=(avg_10-avg_30)/avg_30\n",
    "    check_percent=percent_difference>0\n",
    "    return Pipeline(columns={'avg_10':avg_10,'avg_30':avg_30,'latest':latest,'percent_difference':percent_difference, 'check_percent':check_percent},screen=~check_percent)"
   ]
  },
  {
   "cell_type": "code",
   "execution_count": 22,
   "metadata": {
    "collapsed": false
   },
   "outputs": [
    {
     "data": {
      "text/html": [
       "<div>\n",
       "<table border=\"1\" class=\"dataframe\">\n",
       "  <thead>\n",
       "    <tr style=\"text-align: right;\">\n",
       "      <th></th>\n",
       "      <th></th>\n",
       "      <th>avg_10</th>\n",
       "      <th>avg_30</th>\n",
       "      <th>check_percent</th>\n",
       "      <th>latest</th>\n",
       "      <th>percent_difference</th>\n",
       "    </tr>\n",
       "  </thead>\n",
       "  <tbody>\n",
       "    <tr>\n",
       "      <th rowspan=\"5\" valign=\"top\">2017-01-03 00:00:00+00:00</th>\n",
       "      <th>Equity(2 [ARNC])</th>\n",
       "      <td>19.6530</td>\n",
       "      <td>20.110500</td>\n",
       "      <td>False</td>\n",
       "      <td>18.55</td>\n",
       "      <td>-0.022749</td>\n",
       "    </tr>\n",
       "    <tr>\n",
       "      <th>Equity(21 [AAME])</th>\n",
       "      <td>3.8778</td>\n",
       "      <td>3.899241</td>\n",
       "      <td>False</td>\n",
       "      <td>4.10</td>\n",
       "      <td>-0.005499</td>\n",
       "    </tr>\n",
       "    <tr>\n",
       "      <th>Equity(25 [ARNC_PR])</th>\n",
       "      <td>86.7550</td>\n",
       "      <td>86.796111</td>\n",
       "      <td>False</td>\n",
       "      <td>NaN</td>\n",
       "      <td>-0.000474</td>\n",
       "    </tr>\n",
       "    <tr>\n",
       "      <th>Equity(31 [ABAX])</th>\n",
       "      <td>52.0960</td>\n",
       "      <td>52.498394</td>\n",
       "      <td>False</td>\n",
       "      <td>52.74</td>\n",
       "      <td>-0.007665</td>\n",
       "    </tr>\n",
       "    <tr>\n",
       "      <th>Equity(39 [DDC])</th>\n",
       "      <td>9.3760</td>\n",
       "      <td>9.523000</td>\n",
       "      <td>False</td>\n",
       "      <td>9.69</td>\n",
       "      <td>-0.015436</td>\n",
       "    </tr>\n",
       "  </tbody>\n",
       "</table>\n",
       "</div>"
      ],
      "text/plain": [
       "                                                 avg_10     avg_30  \\\n",
       "2017-01-03 00:00:00+00:00 Equity(2 [ARNC])      19.6530  20.110500   \n",
       "                          Equity(21 [AAME])      3.8778   3.899241   \n",
       "                          Equity(25 [ARNC_PR])  86.7550  86.796111   \n",
       "                          Equity(31 [ABAX])     52.0960  52.498394   \n",
       "                          Equity(39 [DDC])       9.3760   9.523000   \n",
       "\n",
       "                                               check_percent  latest  \\\n",
       "2017-01-03 00:00:00+00:00 Equity(2 [ARNC])             False   18.55   \n",
       "                          Equity(21 [AAME])            False    4.10   \n",
       "                          Equity(25 [ARNC_PR])         False     NaN   \n",
       "                          Equity(31 [ABAX])            False   52.74   \n",
       "                          Equity(39 [DDC])             False    9.69   \n",
       "\n",
       "                                                percent_difference  \n",
       "2017-01-03 00:00:00+00:00 Equity(2 [ARNC])               -0.022749  \n",
       "                          Equity(21 [AAME])              -0.005499  \n",
       "                          Equity(25 [ARNC_PR])           -0.000474  \n",
       "                          Equity(31 [ABAX])              -0.007665  \n",
       "                          Equity(39 [DDC])               -0.015436  "
      ]
     },
     "execution_count": 22,
     "metadata": {},
     "output_type": "execute_result"
    }
   ],
   "source": [
    "pipe=make_pipeline()\n",
    "result=run_pipeline(pipe,'2017-01-01','2017-01-01')\n",
    "\n",
    "result.head()"
   ]
  },
  {
   "cell_type": "code",
   "execution_count": 23,
   "metadata": {
    "collapsed": true
   },
   "outputs": [],
   "source": [
    "def make_pipeline():\n",
    "    avg_10=SimpleMovingAverage(inputs=[USEquityPricing.close],window_length=10)\n",
    "    avg_30=SimpleMovingAverage(inputs=[USEquityPricing.close],window_length=30)\n",
    "    latest=USEquityPricing.close.latest\n",
    "    percent_difference=(avg_10-avg_30)/avg_30\n",
    "    check_percent=percent_difference>0\n",
    "    small_price=latest<5\n",
    "    return Pipeline(columns={'avg_10':avg_10,'avg_30':avg_30,'latest':latest,'percent_difference':percent_difference, 'check_percent':check_percent,'small_price':small_price},screen=~check_percent)"
   ]
  },
  {
   "cell_type": "code",
   "execution_count": 24,
   "metadata": {
    "collapsed": false
   },
   "outputs": [
    {
     "data": {
      "text/html": [
       "<div>\n",
       "<table border=\"1\" class=\"dataframe\">\n",
       "  <thead>\n",
       "    <tr style=\"text-align: right;\">\n",
       "      <th></th>\n",
       "      <th></th>\n",
       "      <th>avg_10</th>\n",
       "      <th>avg_30</th>\n",
       "      <th>check_percent</th>\n",
       "      <th>latest</th>\n",
       "      <th>percent_difference</th>\n",
       "      <th>small_price</th>\n",
       "    </tr>\n",
       "  </thead>\n",
       "  <tbody>\n",
       "    <tr>\n",
       "      <th rowspan=\"5\" valign=\"top\">2017-01-03 00:00:00+00:00</th>\n",
       "      <th>Equity(2 [ARNC])</th>\n",
       "      <td>19.6530</td>\n",
       "      <td>20.110500</td>\n",
       "      <td>False</td>\n",
       "      <td>18.55</td>\n",
       "      <td>-0.022749</td>\n",
       "      <td>False</td>\n",
       "    </tr>\n",
       "    <tr>\n",
       "      <th>Equity(21 [AAME])</th>\n",
       "      <td>3.8778</td>\n",
       "      <td>3.899241</td>\n",
       "      <td>False</td>\n",
       "      <td>4.10</td>\n",
       "      <td>-0.005499</td>\n",
       "      <td>True</td>\n",
       "    </tr>\n",
       "    <tr>\n",
       "      <th>Equity(25 [ARNC_PR])</th>\n",
       "      <td>86.7550</td>\n",
       "      <td>86.796111</td>\n",
       "      <td>False</td>\n",
       "      <td>NaN</td>\n",
       "      <td>-0.000474</td>\n",
       "      <td>False</td>\n",
       "    </tr>\n",
       "    <tr>\n",
       "      <th>Equity(31 [ABAX])</th>\n",
       "      <td>52.0960</td>\n",
       "      <td>52.498394</td>\n",
       "      <td>False</td>\n",
       "      <td>52.74</td>\n",
       "      <td>-0.007665</td>\n",
       "      <td>False</td>\n",
       "    </tr>\n",
       "    <tr>\n",
       "      <th>Equity(39 [DDC])</th>\n",
       "      <td>9.3760</td>\n",
       "      <td>9.523000</td>\n",
       "      <td>False</td>\n",
       "      <td>9.69</td>\n",
       "      <td>-0.015436</td>\n",
       "      <td>False</td>\n",
       "    </tr>\n",
       "  </tbody>\n",
       "</table>\n",
       "</div>"
      ],
      "text/plain": [
       "                                                 avg_10     avg_30  \\\n",
       "2017-01-03 00:00:00+00:00 Equity(2 [ARNC])      19.6530  20.110500   \n",
       "                          Equity(21 [AAME])      3.8778   3.899241   \n",
       "                          Equity(25 [ARNC_PR])  86.7550  86.796111   \n",
       "                          Equity(31 [ABAX])     52.0960  52.498394   \n",
       "                          Equity(39 [DDC])       9.3760   9.523000   \n",
       "\n",
       "                                               check_percent  latest  \\\n",
       "2017-01-03 00:00:00+00:00 Equity(2 [ARNC])             False   18.55   \n",
       "                          Equity(21 [AAME])            False    4.10   \n",
       "                          Equity(25 [ARNC_PR])         False     NaN   \n",
       "                          Equity(31 [ABAX])            False   52.74   \n",
       "                          Equity(39 [DDC])             False    9.69   \n",
       "\n",
       "                                                percent_difference small_price  \n",
       "2017-01-03 00:00:00+00:00 Equity(2 [ARNC])               -0.022749       False  \n",
       "                          Equity(21 [AAME])              -0.005499        True  \n",
       "                          Equity(25 [ARNC_PR])           -0.000474       False  \n",
       "                          Equity(31 [ABAX])              -0.007665       False  \n",
       "                          Equity(39 [DDC])               -0.015436       False  "
      ]
     },
     "execution_count": 24,
     "metadata": {},
     "output_type": "execute_result"
    }
   ],
   "source": [
    "pipe=make_pipeline()\n",
    "result=run_pipeline(pipe,'2017-01-01','2017-01-01')\n",
    "\n",
    "result.head()"
   ]
  },
  {
   "cell_type": "markdown",
   "metadata": {},
   "source": [
    "# Mask "
   ]
  },
  {
   "cell_type": "code",
   "execution_count": 27,
   "metadata": {
    "collapsed": false
   },
   "outputs": [
    {
     "data": {
      "text/html": [
       "<div>\n",
       "<table border=\"1\" class=\"dataframe\">\n",
       "  <thead>\n",
       "    <tr style=\"text-align: right;\">\n",
       "      <th></th>\n",
       "      <th></th>\n",
       "      <th>avg_10</th>\n",
       "      <th>avg_30</th>\n",
       "      <th>check_percent</th>\n",
       "      <th>latest</th>\n",
       "      <th>percent_difference</th>\n",
       "      <th>small_price</th>\n",
       "    </tr>\n",
       "  </thead>\n",
       "  <tbody>\n",
       "    <tr>\n",
       "      <th rowspan=\"5\" valign=\"top\">2017-01-03 00:00:00+00:00</th>\n",
       "      <th>Equity(535 [ARTW])</th>\n",
       "      <td>3.138889</td>\n",
       "      <td>3.097778</td>\n",
       "      <td>True</td>\n",
       "      <td>3.40</td>\n",
       "      <td>0.013271</td>\n",
       "      <td>True</td>\n",
       "    </tr>\n",
       "    <tr>\n",
       "      <th>Equity(677 [AXAS])</th>\n",
       "      <td>2.595000</td>\n",
       "      <td>2.265333</td>\n",
       "      <td>True</td>\n",
       "      <td>2.56</td>\n",
       "      <td>0.145527</td>\n",
       "      <td>True</td>\n",
       "    </tr>\n",
       "    <tr>\n",
       "      <th>Equity(1144 [BTX])</th>\n",
       "      <td>3.763500</td>\n",
       "      <td>3.531167</td>\n",
       "      <td>True</td>\n",
       "      <td>3.62</td>\n",
       "      <td>0.065795</td>\n",
       "      <td>True</td>\n",
       "    </tr>\n",
       "    <tr>\n",
       "      <th>Equity(1323 [CAW])</th>\n",
       "      <td>2.582000</td>\n",
       "      <td>2.541333</td>\n",
       "      <td>True</td>\n",
       "      <td>2.60</td>\n",
       "      <td>0.016002</td>\n",
       "      <td>True</td>\n",
       "    </tr>\n",
       "    <tr>\n",
       "      <th>Equity(1546 [CIF])</th>\n",
       "      <td>2.539323</td>\n",
       "      <td>2.500370</td>\n",
       "      <td>True</td>\n",
       "      <td>2.57</td>\n",
       "      <td>0.015579</td>\n",
       "      <td>True</td>\n",
       "    </tr>\n",
       "  </tbody>\n",
       "</table>\n",
       "</div>"
      ],
      "text/plain": [
       "                                                avg_10    avg_30  \\\n",
       "2017-01-03 00:00:00+00:00 Equity(535 [ARTW])  3.138889  3.097778   \n",
       "                          Equity(677 [AXAS])  2.595000  2.265333   \n",
       "                          Equity(1144 [BTX])  3.763500  3.531167   \n",
       "                          Equity(1323 [CAW])  2.582000  2.541333   \n",
       "                          Equity(1546 [CIF])  2.539323  2.500370   \n",
       "\n",
       "                                             check_percent  latest  \\\n",
       "2017-01-03 00:00:00+00:00 Equity(535 [ARTW])          True    3.40   \n",
       "                          Equity(677 [AXAS])          True    2.56   \n",
       "                          Equity(1144 [BTX])          True    3.62   \n",
       "                          Equity(1323 [CAW])          True    2.60   \n",
       "                          Equity(1546 [CIF])          True    2.57   \n",
       "\n",
       "                                              percent_difference small_price  \n",
       "2017-01-03 00:00:00+00:00 Equity(535 [ARTW])            0.013271        True  \n",
       "                          Equity(677 [AXAS])            0.145527        True  \n",
       "                          Equity(1144 [BTX])            0.065795        True  \n",
       "                          Equity(1323 [CAW])            0.016002        True  \n",
       "                          Equity(1546 [CIF])            0.015579        True  "
      ]
     },
     "execution_count": 27,
     "metadata": {},
     "output_type": "execute_result"
    }
   ],
   "source": [
    "def make_pipeline():\n",
    "    latest=USEquityPricing.close.latest\n",
    "    small_price=latest<5\n",
    "    \n",
    "    avg_10=SimpleMovingAverage(inputs=[USEquityPricing.close],window_length=10, mask=small_price)\n",
    "    avg_30=SimpleMovingAverage(inputs=[USEquityPricing.close],window_length=30, mask=small_price)\n",
    "    \n",
    "    percent_difference=(avg_10-avg_30)/avg_30\n",
    "    check_percent=percent_difference>0\n",
    "    \n",
    "    final_filter=small_price&check_percent\n",
    "    return Pipeline(columns={'avg_10':avg_10,'avg_30':avg_30,'latest':latest,'percent_difference':percent_difference, 'check_percent':check_percent,'small_price':small_price},screen=final_filter)\n",
    "pipe=make_pipeline()\n",
    "result=run_pipeline(pipe,'2017-01-01','2017-01-01')\n",
    "result.head()"
   ]
  },
  {
   "cell_type": "code",
   "execution_count": 28,
   "metadata": {
    "collapsed": true
   },
   "outputs": [],
   "source": [
    "from quantopian.pipeline.data import morningstar\n",
    "from quantopian.pipeline.classifiers.morningstar import Sector"
   ]
  },
  {
   "cell_type": "code",
   "execution_count": 29,
   "metadata": {
    "collapsed": true
   },
   "outputs": [],
   "source": [
    "morningstar_sector = Sector()"
   ]
  },
  {
   "cell_type": "code",
   "execution_count": 30,
   "metadata": {
    "collapsed": true
   },
   "outputs": [],
   "source": [
    "exchange = morningstar.share_class_reference.exchange_id.latest"
   ]
  },
  {
   "cell_type": "code",
   "execution_count": 31,
   "metadata": {
    "collapsed": false
   },
   "outputs": [
    {
     "data": {
      "text/plain": [
       "ArrayPredicate((Latest((share_class_reference.exchange_id::object,), window_length=1),), window_length=0)"
      ]
     },
     "execution_count": 31,
     "metadata": {},
     "output_type": "execute_result"
    }
   ],
   "source": [
    "NYS_filter=exchange.eq('NYS')"
   ]
  },
  {
   "cell_type": "code",
   "execution_count": 33,
   "metadata": {
    "collapsed": false
   },
   "outputs": [
    {
     "data": {
      "text/html": [
       "<div>\n",
       "<table border=\"1\" class=\"dataframe\">\n",
       "  <thead>\n",
       "    <tr style=\"text-align: right;\">\n",
       "      <th></th>\n",
       "      <th></th>\n",
       "      <th>avg_10</th>\n",
       "      <th>avg_30</th>\n",
       "      <th>check_percent</th>\n",
       "      <th>latest</th>\n",
       "      <th>percent_difference</th>\n",
       "      <th>small_price</th>\n",
       "    </tr>\n",
       "  </thead>\n",
       "  <tbody>\n",
       "    <tr>\n",
       "      <th rowspan=\"5\" valign=\"top\">2017-01-03 00:00:00+00:00</th>\n",
       "      <th>Equity(2586 [EQS])</th>\n",
       "      <td>2.0039</td>\n",
       "      <td>1.960533</td>\n",
       "      <td>True</td>\n",
       "      <td>2.020</td>\n",
       "      <td>0.022120</td>\n",
       "      <td>True</td>\n",
       "    </tr>\n",
       "    <tr>\n",
       "      <th>Equity(3265 [GLF])</th>\n",
       "      <td>1.8324</td>\n",
       "      <td>1.576367</td>\n",
       "      <td>True</td>\n",
       "      <td>1.725</td>\n",
       "      <td>0.162420</td>\n",
       "      <td>True</td>\n",
       "    </tr>\n",
       "    <tr>\n",
       "      <th>Equity(3645 [HOV])</th>\n",
       "      <td>2.8325</td>\n",
       "      <td>2.406667</td>\n",
       "      <td>True</td>\n",
       "      <td>2.735</td>\n",
       "      <td>0.176939</td>\n",
       "      <td>True</td>\n",
       "    </tr>\n",
       "    <tr>\n",
       "      <th>Equity(4414 [LEE])</th>\n",
       "      <td>2.9350</td>\n",
       "      <td>3.062500</td>\n",
       "      <td>False</td>\n",
       "      <td>2.850</td>\n",
       "      <td>-0.041633</td>\n",
       "      <td>True</td>\n",
       "    </tr>\n",
       "    <tr>\n",
       "      <th>Equity(4577 [LUB])</th>\n",
       "      <td>4.3100</td>\n",
       "      <td>4.292333</td>\n",
       "      <td>True</td>\n",
       "      <td>4.270</td>\n",
       "      <td>0.004116</td>\n",
       "      <td>True</td>\n",
       "    </tr>\n",
       "  </tbody>\n",
       "</table>\n",
       "</div>"
      ],
      "text/plain": [
       "                                              avg_10    avg_30 check_percent  \\\n",
       "2017-01-03 00:00:00+00:00 Equity(2586 [EQS])  2.0039  1.960533          True   \n",
       "                          Equity(3265 [GLF])  1.8324  1.576367          True   \n",
       "                          Equity(3645 [HOV])  2.8325  2.406667          True   \n",
       "                          Equity(4414 [LEE])  2.9350  3.062500         False   \n",
       "                          Equity(4577 [LUB])  4.3100  4.292333          True   \n",
       "\n",
       "                                              latest  percent_difference  \\\n",
       "2017-01-03 00:00:00+00:00 Equity(2586 [EQS])   2.020            0.022120   \n",
       "                          Equity(3265 [GLF])   1.725            0.162420   \n",
       "                          Equity(3645 [HOV])   2.735            0.176939   \n",
       "                          Equity(4414 [LEE])   2.850           -0.041633   \n",
       "                          Equity(4577 [LUB])   4.270            0.004116   \n",
       "\n",
       "                                             small_price  \n",
       "2017-01-03 00:00:00+00:00 Equity(2586 [EQS])        True  \n",
       "                          Equity(3265 [GLF])        True  \n",
       "                          Equity(3645 [HOV])        True  \n",
       "                          Equity(4414 [LEE])        True  \n",
       "                          Equity(4577 [LUB])        True  "
      ]
     },
     "execution_count": 33,
     "metadata": {},
     "output_type": "execute_result"
    }
   ],
   "source": [
    "def make_pipeline():\n",
    "    latest=USEquityPricing.close.latest\n",
    "    small_price=latest<5\n",
    "    avg_10=SimpleMovingAverage(inputs=[USEquityPricing.close],window_length=10, mask=small_price)\n",
    "    avg_30=SimpleMovingAverage(inputs=[USEquityPricing.close],window_length=30, mask=small_price)\n",
    "    NYS_filter=exchange.eq('NYS')\n",
    "    percent_difference=(avg_10-avg_30)/avg_30\n",
    "    check_percent=percent_difference>0\n",
    "    \n",
    "    final_filter=small_price&NYS_filter\n",
    "    return Pipeline(columns={'avg_10':avg_10,'avg_30':avg_30,'latest':latest,'percent_difference':percent_difference, 'check_percent':check_percent,'small_price':small_price},screen=final_filter)\n",
    "pipe=make_pipeline()\n",
    "result=run_pipeline(pipe,'2017-01-01','2017-01-01')\n",
    "result.head()"
   ]
  },
  {
   "cell_type": "code",
   "execution_count": null,
   "metadata": {
    "collapsed": true
   },
   "outputs": [],
   "source": []
  },
  {
   "cell_type": "code",
   "execution_count": null,
   "metadata": {
    "collapsed": true
   },
   "outputs": [],
   "source": []
  }
 ],
 "metadata": {
  "kernelspec": {
   "display_name": "Python 2",
   "language": "python",
   "name": "python2"
  },
  "language_info": {
   "codemirror_mode": {
    "name": "ipython",
    "version": 2
   },
   "file_extension": ".py",
   "mimetype": "text/x-python",
   "name": "python",
   "nbconvert_exporter": "python",
   "pygments_lexer": "ipython2",
   "version": "2.7.12"
  }
 },
 "nbformat": 4,
 "nbformat_minor": 2
}